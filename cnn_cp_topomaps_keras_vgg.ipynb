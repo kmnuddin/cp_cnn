{
 "cells": [
  {
   "cell_type": "code",
   "execution_count": 1,
   "metadata": {},
   "outputs": [],
   "source": [
    "from helper import Helper\n",
    "from tensorflow.keras.layers import Conv2D, Dense, Flatten, Dropout, Activation, MaxPool2D\n",
    "from tensorflow.keras.models import Sequential\n",
    "from tensorflow.keras.callbacks import TensorBoard\n",
    "from tensorflow.keras.optimizers import Adam, RMSprop, SGD\n",
    "from tensorflow.keras.losses import CategoricalCrossentropy\n",
    "from time import time\n",
    "import numpy as np\n",
    "import matplotlib.pyplot as plt\n",
    "%matplotlib inline"
   ]
  },
  {
   "cell_type": "code",
   "execution_count": 2,
   "metadata": {},
   "outputs": [
    {
     "name": "stdout",
     "output_type": "stream",
     "text": [
      "Found 22050 images belonging to 3 classes.\n",
      "Found 3150 images belonging to 3 classes.\n",
      "Found 6300 images belonging to 3 classes.\n"
     ]
    }
   ],
   "source": [
    "h = Helper()\n",
    "\n",
    "train_it, validation_it, test_it = h.construct_data_generator_w_validation()"
   ]
  },
  {
   "cell_type": "code",
   "execution_count": 3,
   "metadata": {},
   "outputs": [],
   "source": [
    "def build_model(optimizer, loss, name):\n",
    "    model = Sequential(name=name)\n",
    "    \n",
    "    model.add(Conv2D(32, (5,5), input_shape = (224, 224, 3), activation = 'relu'))\n",
    "    model.add(Conv2D(32, (5,5), activation = 'relu'))\n",
    "    model.add(MaxPool2D(pool_size = (2,2)))\n",
    "    model.add(Dropout(0.25))\n",
    "    \n",
    "    model.add(Conv2D(64, (5,5), activation = 'relu'))\n",
    "    model.add(Conv2D(64, (5,5), activation = 'relu'))\n",
    "    model.add(MaxPool2D(pool_size = (2,2)))\n",
    "    model.add(Dropout(0.25))\n",
    "    \n",
    "    model.add(Flatten())\n",
    "    model.add(Dense(256, activation = 'relu'))\n",
    "    model.add(Dropout(0.5))\n",
    "    model.add(Dense(3, activation = 'softmax'))\n",
    "    \n",
    "    model.compile(optimizer=optimizer, loss=loss, metrics=['accuracy'])\n",
    "    model.summary()\n",
    "    \n",
    "    return model"
   ]
  },
  {
   "cell_type": "code",
   "execution_count": 4,
   "metadata": {},
   "outputs": [],
   "source": [
    "opt = Adam(learning_rate=0.0001)\n",
    "loss = 'categorical_crossentropy'"
   ]
  },
  {
   "cell_type": "code",
   "execution_count": 5,
   "metadata": {},
   "outputs": [],
   "source": [
    "tblog_path = h.logs_directory.format(time())\n",
    "tb_log = TensorBoard(log_dir = tblog_path, profile_batch=0)"
   ]
  },
  {
   "cell_type": "code",
   "execution_count": 6,
   "metadata": {},
   "outputs": [
    {
     "name": "stdout",
     "output_type": "stream",
     "text": [
      "Model: \"cnn_topomap_classification_model_vgg_100\"\n",
      "_________________________________________________________________\n",
      "Layer (type)                 Output Shape              Param #   \n",
      "=================================================================\n",
      "conv2d (Conv2D)              (None, 220, 220, 32)      2432      \n",
      "_________________________________________________________________\n",
      "conv2d_1 (Conv2D)            (None, 216, 216, 32)      25632     \n",
      "_________________________________________________________________\n",
      "max_pooling2d (MaxPooling2D) (None, 108, 108, 32)      0         \n",
      "_________________________________________________________________\n",
      "dropout (Dropout)            (None, 108, 108, 32)      0         \n",
      "_________________________________________________________________\n",
      "conv2d_2 (Conv2D)            (None, 104, 104, 64)      51264     \n",
      "_________________________________________________________________\n",
      "conv2d_3 (Conv2D)            (None, 100, 100, 64)      102464    \n",
      "_________________________________________________________________\n",
      "max_pooling2d_1 (MaxPooling2 (None, 50, 50, 64)        0         \n",
      "_________________________________________________________________\n",
      "dropout_1 (Dropout)          (None, 50, 50, 64)        0         \n",
      "_________________________________________________________________\n",
      "flatten (Flatten)            (None, 160000)            0         \n",
      "_________________________________________________________________\n",
      "dense (Dense)                (None, 256)               40960256  \n",
      "_________________________________________________________________\n",
      "dropout_2 (Dropout)          (None, 256)               0         \n",
      "_________________________________________________________________\n",
      "dense_1 (Dense)              (None, 3)                 771       \n",
      "=================================================================\n",
      "Total params: 41,142,819\n",
      "Trainable params: 41,142,819\n",
      "Non-trainable params: 0\n",
      "_________________________________________________________________\n"
     ]
    }
   ],
   "source": [
    "model = build_model(opt, loss, 'cnn_topomap_classification_model_vgg_100')"
   ]
  },
  {
   "cell_type": "code",
   "execution_count": 7,
   "metadata": {},
   "outputs": [
    {
     "name": "stdout",
     "output_type": "stream",
     "text": [
      "Epoch 1/100\n",
      "173/173 [==============================] - 168s 972ms/step - loss: 1.0961 - accuracy: 0.3796 - val_loss: 1.0384 - val_accuracy: 0.4597\n",
      "Epoch 2/100\n",
      "173/173 [==============================] - 163s 943ms/step - loss: 0.9341 - accuracy: 0.5312 - val_loss: 0.7854 - val_accuracy: 0.6467\n",
      "Epoch 3/100\n",
      "173/173 [==============================] - 164s 946ms/step - loss: 0.7543 - accuracy: 0.6517 - val_loss: 0.6531 - val_accuracy: 0.7092\n",
      "Epoch 4/100\n",
      "173/173 [==============================] - 164s 950ms/step - loss: 0.6520 - accuracy: 0.7059 - val_loss: 0.5462 - val_accuracy: 0.7670\n",
      "Epoch 5/100\n",
      "173/173 [==============================] - 164s 949ms/step - loss: 0.5899 - accuracy: 0.7409 - val_loss: 0.4999 - val_accuracy: 0.7892\n",
      "Epoch 6/100\n",
      "173/173 [==============================] - 165s 951ms/step - loss: 0.5376 - accuracy: 0.7663 - val_loss: 0.4604 - val_accuracy: 0.8048\n",
      "Epoch 7/100\n",
      "173/173 [==============================] - 165s 954ms/step - loss: 0.4967 - accuracy: 0.7875 - val_loss: 0.4270 - val_accuracy: 0.8238\n",
      "Epoch 8/100\n",
      "173/173 [==============================] - 165s 953ms/step - loss: 0.4683 - accuracy: 0.8013 - val_loss: 0.4165 - val_accuracy: 0.8257\n",
      "Epoch 9/100\n",
      "173/173 [==============================] - 165s 954ms/step - loss: 0.4351 - accuracy: 0.8152 - val_loss: 0.4215 - val_accuracy: 0.8159\n",
      "Epoch 10/100\n",
      "173/173 [==============================] - 165s 953ms/step - loss: 0.4109 - accuracy: 0.8260 - val_loss: 0.3585 - val_accuracy: 0.8584\n",
      "Epoch 11/100\n",
      "173/173 [==============================] - 165s 953ms/step - loss: 0.3965 - accuracy: 0.8332 - val_loss: 0.3627 - val_accuracy: 0.8460\n",
      "Epoch 12/100\n",
      "173/173 [==============================] - 166s 957ms/step - loss: 0.3818 - accuracy: 0.8386 - val_loss: 0.3478 - val_accuracy: 0.8629\n",
      "Epoch 13/100\n",
      "173/173 [==============================] - 165s 955ms/step - loss: 0.3647 - accuracy: 0.8488 - val_loss: 0.3352 - val_accuracy: 0.8635\n",
      "Epoch 14/100\n",
      "173/173 [==============================] - 165s 956ms/step - loss: 0.3401 - accuracy: 0.8583 - val_loss: 0.3188 - val_accuracy: 0.8705\n",
      "Epoch 15/100\n",
      "173/173 [==============================] - 166s 957ms/step - loss: 0.3176 - accuracy: 0.8716 - val_loss: 0.3156 - val_accuracy: 0.8730\n",
      "Epoch 16/100\n",
      "173/173 [==============================] - 165s 956ms/step - loss: 0.3119 - accuracy: 0.8729 - val_loss: 0.3000 - val_accuracy: 0.8810\n",
      "Epoch 17/100\n",
      "173/173 [==============================] - 165s 955ms/step - loss: 0.3461 - accuracy: 0.8558 - val_loss: 0.3127 - val_accuracy: 0.8762\n",
      "Epoch 18/100\n",
      "173/173 [==============================] - 164s 949ms/step - loss: 0.3432 - accuracy: 0.8561 - val_loss: 0.3393 - val_accuracy: 0.8632\n",
      "Epoch 19/100\n",
      "173/173 [==============================] - 164s 948ms/step - loss: 0.2981 - accuracy: 0.8769 - val_loss: 0.2874 - val_accuracy: 0.8851\n",
      "Epoch 20/100\n",
      "173/173 [==============================] - 164s 949ms/step - loss: 0.2680 - accuracy: 0.8907 - val_loss: 0.3079 - val_accuracy: 0.8762\n",
      "Epoch 21/100\n",
      "173/173 [==============================] - 164s 948ms/step - loss: 0.2693 - accuracy: 0.8889 - val_loss: 0.2974 - val_accuracy: 0.8879\n",
      "Epoch 22/100\n",
      "173/173 [==============================] - 164s 949ms/step - loss: 0.2520 - accuracy: 0.8974 - val_loss: 0.2791 - val_accuracy: 0.8848\n",
      "Epoch 23/100\n",
      "173/173 [==============================] - 164s 948ms/step - loss: 0.2522 - accuracy: 0.8979 - val_loss: 0.2801 - val_accuracy: 0.8870\n",
      "Epoch 24/100\n",
      "173/173 [==============================] - 164s 948ms/step - loss: 0.2409 - accuracy: 0.9022 - val_loss: 0.2815 - val_accuracy: 0.9000\n",
      "Epoch 25/100\n",
      "173/173 [==============================] - 164s 949ms/step - loss: 0.2301 - accuracy: 0.9069 - val_loss: 0.3032 - val_accuracy: 0.8857\n",
      "Epoch 26/100\n",
      "173/173 [==============================] - 164s 948ms/step - loss: 0.2241 - accuracy: 0.9077 - val_loss: 0.2743 - val_accuracy: 0.9000\n",
      "Epoch 27/100\n",
      "173/173 [==============================] - 164s 948ms/step - loss: 0.2256 - accuracy: 0.9066 - val_loss: 0.2674 - val_accuracy: 0.8990\n",
      "Epoch 28/100\n",
      "173/173 [==============================] - 164s 948ms/step - loss: 0.2097 - accuracy: 0.9157 - val_loss: 0.2658 - val_accuracy: 0.9054\n",
      "Epoch 29/100\n",
      "173/173 [==============================] - 164s 946ms/step - loss: 0.2636 - accuracy: 0.8917 - val_loss: 0.2738 - val_accuracy: 0.8946\n",
      "Epoch 30/100\n",
      "173/173 [==============================] - 164s 948ms/step - loss: 0.2074 - accuracy: 0.9142 - val_loss: 0.2714 - val_accuracy: 0.9000\n",
      "Epoch 31/100\n",
      "173/173 [==============================] - 164s 948ms/step - loss: 0.1986 - accuracy: 0.9207 - val_loss: 0.2675 - val_accuracy: 0.9067\n",
      "Epoch 32/100\n",
      "173/173 [==============================] - 164s 948ms/step - loss: 0.1968 - accuracy: 0.9212 - val_loss: 0.2738 - val_accuracy: 0.9003\n",
      "Epoch 33/100\n",
      "173/173 [==============================] - 164s 949ms/step - loss: 0.1844 - accuracy: 0.9263 - val_loss: 0.2828 - val_accuracy: 0.8981\n",
      "Epoch 34/100\n",
      "173/173 [==============================] - 164s 947ms/step - loss: 0.1876 - accuracy: 0.9223 - val_loss: 0.2760 - val_accuracy: 0.8990\n",
      "Epoch 35/100\n",
      "173/173 [==============================] - 165s 956ms/step - loss: 0.1819 - accuracy: 0.9244 - val_loss: 0.2701 - val_accuracy: 0.9025\n",
      "Epoch 36/100\n",
      "173/173 [==============================] - 167s 965ms/step - loss: 0.1794 - accuracy: 0.9254 - val_loss: 0.2773 - val_accuracy: 0.9079\n",
      "Epoch 37/100\n",
      "173/173 [==============================] - 165s 954ms/step - loss: 0.1864 - accuracy: 0.9235 - val_loss: 0.3291 - val_accuracy: 0.8797\n",
      "Epoch 38/100\n",
      "173/173 [==============================] - 165s 953ms/step - loss: 0.1765 - accuracy: 0.9288 - val_loss: 0.2592 - val_accuracy: 0.9083\n",
      "Epoch 39/100\n",
      "173/173 [==============================] - 165s 954ms/step - loss: 0.1800 - accuracy: 0.9258 - val_loss: 0.2666 - val_accuracy: 0.9041\n",
      "Epoch 40/100\n",
      "173/173 [==============================] - 165s 953ms/step - loss: 0.1637 - accuracy: 0.9333 - val_loss: 0.2694 - val_accuracy: 0.9044\n",
      "Epoch 41/100\n",
      "173/173 [==============================] - 165s 954ms/step - loss: 0.1619 - accuracy: 0.9354 - val_loss: 0.2691 - val_accuracy: 0.9121\n",
      "Epoch 42/100\n",
      "173/173 [==============================] - 164s 950ms/step - loss: 0.1552 - accuracy: 0.9363 - val_loss: 0.2661 - val_accuracy: 0.9089\n",
      "Epoch 43/100\n",
      "173/173 [==============================] - 164s 947ms/step - loss: 0.1481 - accuracy: 0.9385 - val_loss: 0.2684 - val_accuracy: 0.9048\n",
      "Epoch 44/100\n",
      "173/173 [==============================] - 165s 956ms/step - loss: 0.1681 - accuracy: 0.9307 - val_loss: 0.2711 - val_accuracy: 0.9086\n",
      "Epoch 45/100\n",
      "173/173 [==============================] - 165s 954ms/step - loss: 0.1501 - accuracy: 0.9390 - val_loss: 0.2617 - val_accuracy: 0.9137\n",
      "Epoch 46/100\n",
      "173/173 [==============================] - 165s 953ms/step - loss: 0.1659 - accuracy: 0.9319 - val_loss: 0.2794 - val_accuracy: 0.9057\n",
      "Epoch 47/100\n",
      "173/173 [==============================] - 165s 951ms/step - loss: 0.2467 - accuracy: 0.9023 - val_loss: 0.2610 - val_accuracy: 0.9108\n",
      "Epoch 48/100\n",
      "173/173 [==============================] - 165s 954ms/step - loss: 0.1441 - accuracy: 0.9405 - val_loss: 0.2673 - val_accuracy: 0.9124\n",
      "Epoch 49/100\n",
      "173/173 [==============================] - 165s 953ms/step - loss: 0.1401 - accuracy: 0.9428 - val_loss: 0.2672 - val_accuracy: 0.9114\n",
      "Epoch 50/100\n",
      "173/173 [==============================] - 165s 954ms/step - loss: 0.1315 - accuracy: 0.9465 - val_loss: 0.2743 - val_accuracy: 0.9102\n",
      "Epoch 51/100\n",
      "173/173 [==============================] - 165s 953ms/step - loss: 0.1304 - accuracy: 0.9481 - val_loss: 0.2778 - val_accuracy: 0.9146\n",
      "Epoch 52/100\n",
      "173/173 [==============================] - 165s 953ms/step - loss: 0.1267 - accuracy: 0.9476 - val_loss: 0.2789 - val_accuracy: 0.9105\n",
      "Epoch 53/100\n",
      "173/173 [==============================] - 165s 952ms/step - loss: 0.1321 - accuracy: 0.9469 - val_loss: 0.2791 - val_accuracy: 0.9181\n",
      "Epoch 54/100\n",
      "173/173 [==============================] - 164s 948ms/step - loss: 0.2443 - accuracy: 0.9007 - val_loss: 0.3142 - val_accuracy: 0.8895\n",
      "Epoch 55/100\n",
      "173/173 [==============================] - 164s 945ms/step - loss: 0.1670 - accuracy: 0.9336 - val_loss: 0.2696 - val_accuracy: 0.9117\n",
      "Epoch 56/100\n"
     ]
    },
    {
     "name": "stdout",
     "output_type": "stream",
     "text": [
      "173/173 [==============================] - 164s 946ms/step - loss: 0.1309 - accuracy: 0.9478 - val_loss: 0.3011 - val_accuracy: 0.8987\n",
      "Epoch 57/100\n",
      "173/173 [==============================] - 164s 946ms/step - loss: 0.1516 - accuracy: 0.9396 - val_loss: 0.2742 - val_accuracy: 0.9114\n",
      "Epoch 58/100\n",
      "173/173 [==============================] - 163s 945ms/step - loss: 0.1291 - accuracy: 0.9482 - val_loss: 0.2577 - val_accuracy: 0.9146\n",
      "Epoch 59/100\n",
      "173/173 [==============================] - 164s 947ms/step - loss: 0.1138 - accuracy: 0.9523 - val_loss: 0.2655 - val_accuracy: 0.9156\n",
      "Epoch 60/100\n",
      "173/173 [==============================] - 164s 947ms/step - loss: 0.1149 - accuracy: 0.9536 - val_loss: 0.2782 - val_accuracy: 0.9143\n",
      "Epoch 61/100\n",
      "173/173 [==============================] - 164s 947ms/step - loss: 0.1141 - accuracy: 0.9565 - val_loss: 0.2792 - val_accuracy: 0.9162\n",
      "Epoch 62/100\n",
      "173/173 [==============================] - 164s 947ms/step - loss: 0.1184 - accuracy: 0.9517 - val_loss: 0.2707 - val_accuracy: 0.9133\n",
      "Epoch 63/100\n",
      "173/173 [==============================] - 164s 946ms/step - loss: 0.2389 - accuracy: 0.9123 - val_loss: 0.2746 - val_accuracy: 0.8975\n",
      "Epoch 64/100\n",
      "173/173 [==============================] - 164s 945ms/step - loss: 0.1718 - accuracy: 0.9323 - val_loss: 0.2607 - val_accuracy: 0.9127\n",
      "Epoch 65/100\n",
      "173/173 [==============================] - 164s 946ms/step - loss: 0.1223 - accuracy: 0.9519 - val_loss: 0.2489 - val_accuracy: 0.9222\n",
      "Epoch 66/100\n",
      "173/173 [==============================] - 164s 949ms/step - loss: 0.1128 - accuracy: 0.9536 - val_loss: 0.2557 - val_accuracy: 0.9187\n",
      "Epoch 67/100\n",
      "173/173 [==============================] - 164s 948ms/step - loss: 0.1048 - accuracy: 0.9590 - val_loss: 0.2726 - val_accuracy: 0.9203\n",
      "Epoch 68/100\n",
      "173/173 [==============================] - 164s 948ms/step - loss: 0.0994 - accuracy: 0.9589 - val_loss: 0.2723 - val_accuracy: 0.9222\n",
      "Epoch 69/100\n",
      "173/173 [==============================] - 164s 948ms/step - loss: 0.1033 - accuracy: 0.9587 - val_loss: 0.2757 - val_accuracy: 0.9171\n",
      "Epoch 70/100\n",
      "173/173 [==============================] - 164s 947ms/step - loss: 0.1131 - accuracy: 0.9538 - val_loss: 0.2637 - val_accuracy: 0.9206\n",
      "Epoch 71/100\n",
      "173/173 [==============================] - 164s 947ms/step - loss: 0.1006 - accuracy: 0.9582 - val_loss: 0.2872 - val_accuracy: 0.9206\n",
      "Epoch 72/100\n",
      "173/173 [==============================] - 164s 947ms/step - loss: 0.0948 - accuracy: 0.9625 - val_loss: 0.2692 - val_accuracy: 0.9232\n",
      "Epoch 73/100\n",
      "173/173 [==============================] - 164s 947ms/step - loss: 0.1028 - accuracy: 0.9590 - val_loss: 0.2701 - val_accuracy: 0.9267\n",
      "Epoch 74/100\n",
      "173/173 [==============================] - 164s 947ms/step - loss: 0.1099 - accuracy: 0.9555 - val_loss: 0.2725 - val_accuracy: 0.9162\n",
      "Epoch 75/100\n",
      "173/173 [==============================] - 164s 947ms/step - loss: 0.1083 - accuracy: 0.9551 - val_loss: 0.2707 - val_accuracy: 0.9162\n",
      "Epoch 76/100\n",
      "173/173 [==============================] - 164s 946ms/step - loss: 0.0972 - accuracy: 0.9624 - val_loss: 0.2839 - val_accuracy: 0.9194\n",
      "Epoch 77/100\n",
      "173/173 [==============================] - 164s 948ms/step - loss: 0.1006 - accuracy: 0.9587 - val_loss: 0.2757 - val_accuracy: 0.9216\n",
      "Epoch 78/100\n",
      "173/173 [==============================] - 164s 947ms/step - loss: 0.0985 - accuracy: 0.9610 - val_loss: 0.3420 - val_accuracy: 0.9089\n",
      "Epoch 79/100\n",
      "173/173 [==============================] - 163s 945ms/step - loss: 0.1005 - accuracy: 0.9585 - val_loss: 0.2917 - val_accuracy: 0.9187\n",
      "Epoch 80/100\n",
      "173/173 [==============================] - 163s 945ms/step - loss: 0.0935 - accuracy: 0.9623 - val_loss: 0.2786 - val_accuracy: 0.9216\n",
      "Epoch 81/100\n",
      "173/173 [==============================] - 164s 945ms/step - loss: 0.1016 - accuracy: 0.9575 - val_loss: 0.2751 - val_accuracy: 0.9187\n",
      "Epoch 82/100\n",
      "173/173 [==============================] - 164s 946ms/step - loss: 0.0856 - accuracy: 0.9648 - val_loss: 0.2983 - val_accuracy: 0.9244\n",
      "Epoch 83/100\n",
      "173/173 [==============================] - 164s 946ms/step - loss: 0.0919 - accuracy: 0.9633 - val_loss: 0.2844 - val_accuracy: 0.9210\n",
      "Epoch 84/100\n",
      "173/173 [==============================] - 163s 945ms/step - loss: 0.1084 - accuracy: 0.9568 - val_loss: 0.2787 - val_accuracy: 0.9149\n",
      "Epoch 85/100\n",
      "173/173 [==============================] - 164s 947ms/step - loss: 0.0887 - accuracy: 0.9653 - val_loss: 0.2979 - val_accuracy: 0.9203\n",
      "Epoch 86/100\n",
      "173/173 [==============================] - 164s 946ms/step - loss: 0.0878 - accuracy: 0.9633 - val_loss: 0.3029 - val_accuracy: 0.9222\n",
      "Epoch 87/100\n",
      "173/173 [==============================] - 164s 946ms/step - loss: 0.0887 - accuracy: 0.9637 - val_loss: 0.2951 - val_accuracy: 0.9251\n",
      "Epoch 88/100\n",
      "173/173 [==============================] - 163s 944ms/step - loss: 0.1178 - accuracy: 0.9526 - val_loss: 0.2824 - val_accuracy: 0.9168\n",
      "Epoch 89/100\n",
      "173/173 [==============================] - 164s 947ms/step - loss: 0.0893 - accuracy: 0.9629 - val_loss: 0.3020 - val_accuracy: 0.9244\n",
      "Epoch 90/100\n",
      "173/173 [==============================] - 164s 946ms/step - loss: 0.0905 - accuracy: 0.9643 - val_loss: 0.2902 - val_accuracy: 0.9184\n",
      "Epoch 91/100\n",
      "173/173 [==============================] - 164s 945ms/step - loss: 0.0840 - accuracy: 0.9658 - val_loss: 0.2913 - val_accuracy: 0.9254\n",
      "Epoch 92/100\n",
      "173/173 [==============================] - 164s 946ms/step - loss: 0.0831 - accuracy: 0.9660 - val_loss: 0.2880 - val_accuracy: 0.9238\n",
      "Epoch 93/100\n",
      "173/173 [==============================] - 164s 945ms/step - loss: 0.0813 - accuracy: 0.9679 - val_loss: 0.2903 - val_accuracy: 0.9244\n",
      "Epoch 94/100\n",
      "173/173 [==============================] - 163s 945ms/step - loss: 0.1183 - accuracy: 0.9531 - val_loss: 0.2916 - val_accuracy: 0.9203\n",
      "Epoch 95/100\n",
      "173/173 [==============================] - 164s 946ms/step - loss: 0.0832 - accuracy: 0.9671 - val_loss: 0.3170 - val_accuracy: 0.9149\n",
      "Epoch 96/100\n",
      "173/173 [==============================] - 163s 945ms/step - loss: 0.0833 - accuracy: 0.9653 - val_loss: 0.2863 - val_accuracy: 0.9235\n",
      "Epoch 97/100\n",
      "173/173 [==============================] - 164s 945ms/step - loss: 0.0960 - accuracy: 0.9619 - val_loss: 0.2932 - val_accuracy: 0.9229\n",
      "Epoch 98/100\n",
      "173/173 [==============================] - 164s 945ms/step - loss: 0.0805 - accuracy: 0.9670 - val_loss: 0.3052 - val_accuracy: 0.9225\n",
      "Epoch 99/100\n",
      "173/173 [==============================] - 164s 947ms/step - loss: 0.0773 - accuracy: 0.9688 - val_loss: 0.3180 - val_accuracy: 0.9254\n",
      "Epoch 100/100\n",
      "173/173 [==============================] - 163s 945ms/step - loss: 0.0812 - accuracy: 0.9673 - val_loss: 0.3250 - val_accuracy: 0.9216\n"
     ]
    }
   ],
   "source": [
    "r = model.fit_generator(train_it, epochs=100, callbacks=[tb_log], validation_data=validation_it)"
   ]
  },
  {
   "cell_type": "code",
   "execution_count": 8,
   "metadata": {},
   "outputs": [],
   "source": [
    "evaluate = model.evaluate_generator(test_it)"
   ]
  },
  {
   "cell_type": "code",
   "execution_count": 9,
   "metadata": {},
   "outputs": [],
   "source": [
    "y_prob = model.predict_generator(test_it)"
   ]
  },
  {
   "cell_type": "code",
   "execution_count": 10,
   "metadata": {},
   "outputs": [
    {
     "name": "stdout",
     "output_type": "stream",
     "text": [
      "model saved, path: models/cnn_topomap_classification_model_vgg_100.h5\n"
     ]
    }
   ],
   "source": [
    "h.save(model, r, evaluate, y_prob, 'cnn_topomap_classification_model_vgg_100')"
   ]
  },
  {
   "cell_type": "code",
   "execution_count": 11,
   "metadata": {},
   "outputs": [
    {
     "data": {
      "image/png": "[encoded data removed]",
      "text/plain": [
       "<Figure size 432x288 with 1 Axes>"
      ]
     },
     "metadata": {
      "needs_background": "light"
     },
     "output_type": "display_data"
    }
   ],
   "source": [
    "plt.figure()\n",
    "\n",
    "plt.title('loss curve for cnn_topomap_classification_model_vgg_100')\n",
    "\n",
    "plt.plot(r.history['loss'], label='loss')\n",
    "plt.plot(r.history['val_loss'], label='val_loss')\n",
    "\n",
    "plt.xlabel('epochs')\n",
    "plt.ylabel('loss')\n",
    "plt.legend()\n",
    "\n",
    "plt.savefig('results/loss curve for cnn_topomap_classification_model_vgg_100.png')"
   ]
  },
  {
   "cell_type": "code",
   "execution_count": 12,
   "metadata": {},
   "outputs": [
    {
     "data": {
      "image/png": "[encoded data removed]",
      "text/plain": [
       "<Figure size 432x288 with 1 Axes>"
      ]
     },
     "metadata": {
      "needs_background": "light"
     },
     "output_type": "display_data"
    }
   ],
   "source": [
    "plt.figure()\n",
    "\n",
    "plt.title('accuracy curve for cnn_topomap_classification_model_vgg_100')\n",
    "\n",
    "plt.plot(r.history['accuracy'], label='acc')\n",
    "plt.plot(r.history['val_accuracy'], label='val_acc')\n",
    "\n",
    "plt.xlabel('epochs')\n",
    "plt.ylabel('accuracy')\n",
    "plt.legend()\n",
    "\n",
    "plt.savefig('results/accuracy curve for cnn_topomap_classification_model_vgg_100.png')"
   ]
  }
 ],
 "metadata": {
  "kernelspec": {
   "display_name": "Python 3",
   "language": "python",
   "name": "python3"
  },
  "language_info": {
   "codemirror_mode": {
    "name": "ipython",
    "version": 3
   },
   "file_extension": ".py",
   "mimetype": "text/x-python",
   "name": "python",
   "nbconvert_exporter": "python",
   "pygments_lexer": "ipython3",
   "version": "3.7.4"
  }
 },
 "nbformat": 4,
 "nbformat_minor": 2
}
