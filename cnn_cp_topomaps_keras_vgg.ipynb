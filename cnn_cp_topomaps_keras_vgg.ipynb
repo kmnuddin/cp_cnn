{
 "cells": [
  {
   "cell_type": "code",
   "execution_count": 1,
   "metadata": {},
   "outputs": [],
   "source": [
    "from helper import Helper\n",
    "from tensorflow.keras.layers import Conv2D, Dense, Flatten, Dropout, Activation, MaxPool2D\n",
    "from tensorflow.keras.models import Sequential\n",
    "from tensorflow.keras.callbacks import TensorBoard\n",
    "from tensorflow.keras.optimizers import Adam, RMSprop, SGD\n",
    "from tensorflow.keras.losses import CategoricalCrossentropy\n",
    "from time import time\n",
    "import numpy as np\n",
    "import matplotlib.pyplot as plt\n",
    "%matplotlib inline"
   ]
  },
  {
   "cell_type": "code",
   "execution_count": 2,
   "metadata": {},
   "outputs": [
    {
     "name": "stdout",
     "output_type": "stream",
     "text": [
      "Found 22050 images belonging to 3 classes.\n",
      "Found 3150 images belonging to 3 classes.\n",
      "Found 6300 images belonging to 3 classes.\n"
     ]
    }
   ],
   "source": [
    "h = Helper()\n",
    "\n",
    "train_it, validation_it, test_it = h.construct_data_generator_w_validation()"
   ]
  },
  {
   "cell_type": "code",
   "execution_count": 3,
   "metadata": {},
   "outputs": [],
   "source": [
    "def build_model(optimizer, loss, name):\n",
    "    model = Sequential(name=name)\n",
    "    \n",
    "    model.add(Conv2D(32, (5,5), input_shape = (224, 224, 3), activation = 'relu'))\n",
    "    model.add(Conv2D(32, (5,5), activation = 'relu'))\n",
    "    model.add(MaxPool2D(pool_size = (2,2)))\n",
    "    model.add(Dropout(0.25))\n",
    "    \n",
    "    model.add(Conv2D(64, (5,5), activation = 'relu'))\n",
    "    model.add(Conv2D(64, (5,5), activation = 'relu'))\n",
    "    model.add(MaxPool2D(pool_size = (2,2)))\n",
    "    model.add(Dropout(0.25))\n",
    "    \n",
    "    model.add(Flatten())\n",
    "    model.add(Dense(256, activation = 'relu'))\n",
    "    model.add(Dropout(0.5))\n",
    "    model.add(Dense(3, activation = 'softmax'))\n",
    "    \n",
    "    model.compile(optimizer=optimizer, loss=loss, metrics=['accuracy'])\n",
    "    model.summary()\n",
    "    \n",
    "    return model"
   ]
  },
  {
   "cell_type": "code",
   "execution_count": 4,
   "metadata": {},
   "outputs": [],
   "source": [
    "sgd = SGD(lr=0.01, decay=1e-6, momentum=0.9, nesterov=True)\n",
    "loss = 'categorical_crossentropy'"
   ]
  },
  {
   "cell_type": "code",
   "execution_count": 5,
   "metadata": {},
   "outputs": [],
   "source": [
    "tblog_path = h.logs_directory.format(time())\n",
    "tb_log = TensorBoard(log_dir = tblog_path, profile_batch=0)"
   ]
  },
  {
   "cell_type": "code",
   "execution_count": 6,
   "metadata": {},
   "outputs": [
    {
     "name": "stdout",
     "output_type": "stream",
     "text": [
      "Model: \"cnn_topomap_classification_model_vgg\"\n",
      "_________________________________________________________________\n",
      "Layer (type)                 Output Shape              Param #   \n",
      "=================================================================\n",
      "conv2d (Conv2D)              (None, 220, 220, 32)      2432      \n",
      "_________________________________________________________________\n",
      "conv2d_1 (Conv2D)            (None, 216, 216, 32)      25632     \n",
      "_________________________________________________________________\n",
      "max_pooling2d (MaxPooling2D) (None, 108, 108, 32)      0         \n",
      "_________________________________________________________________\n",
      "dropout (Dropout)            (None, 108, 108, 32)      0         \n",
      "_________________________________________________________________\n",
      "conv2d_2 (Conv2D)            (None, 104, 104, 64)      51264     \n",
      "_________________________________________________________________\n",
      "conv2d_3 (Conv2D)            (None, 100, 100, 64)      102464    \n",
      "_________________________________________________________________\n",
      "max_pooling2d_1 (MaxPooling2 (None, 50, 50, 64)        0         \n",
      "_________________________________________________________________\n",
      "dropout_1 (Dropout)          (None, 50, 50, 64)        0         \n",
      "_________________________________________________________________\n",
      "flatten (Flatten)            (None, 160000)            0         \n",
      "_________________________________________________________________\n",
      "dense (Dense)                (None, 256)               40960256  \n",
      "_________________________________________________________________\n",
      "dropout_2 (Dropout)          (None, 256)               0         \n",
      "_________________________________________________________________\n",
      "dense_1 (Dense)              (None, 3)                 771       \n",
      "=================================================================\n",
      "Total params: 41,142,819\n",
      "Trainable params: 41,142,819\n",
      "Non-trainable params: 0\n",
      "_________________________________________________________________\n"
     ]
    }
   ],
   "source": [
    "model = build_model(sgd, loss, 'cnn_topomap_classification_model_vgg')"
   ]
  },
  {
   "cell_type": "code",
   "execution_count": 7,
   "metadata": {},
   "outputs": [
    {
     "name": "stdout",
     "output_type": "stream",
     "text": [
      "Epoch 1/40\n",
      "173/173 [==============================] - 160s 922ms/step - loss: 1.1195 - accuracy: 0.3339 - val_loss: 1.0986 - val_accuracy: 0.3333\n",
      "Epoch 2/40\n",
      "173/173 [==============================] - 153s 883ms/step - loss: 1.0987 - accuracy: 0.3355 - val_loss: 1.0986 - val_accuracy: 0.3333\n",
      "Epoch 3/40\n",
      "173/173 [==============================] - 155s 893ms/step - loss: 1.0985 - accuracy: 0.3370 - val_loss: 1.0975 - val_accuracy: 0.3517\n",
      "Epoch 4/40\n",
      "173/173 [==============================] - 155s 897ms/step - loss: 1.0747 - accuracy: 0.4100 - val_loss: 1.0142 - val_accuracy: 0.4892\n",
      "Epoch 5/40\n",
      "173/173 [==============================] - 155s 897ms/step - loss: 0.9840 - accuracy: 0.4910 - val_loss: 0.9066 - val_accuracy: 0.5686\n",
      "Epoch 6/40\n",
      "173/173 [==============================] - 157s 907ms/step - loss: 0.8923 - accuracy: 0.5595 - val_loss: 0.7754 - val_accuracy: 0.6381\n",
      "Epoch 7/40\n",
      "173/173 [==============================] - 156s 904ms/step - loss: 0.8054 - accuracy: 0.6121 - val_loss: 0.7075 - val_accuracy: 0.6721\n",
      "Epoch 8/40\n",
      "173/173 [==============================] - 156s 903ms/step - loss: 0.7321 - accuracy: 0.6576 - val_loss: 0.6177 - val_accuracy: 0.7343\n",
      "Epoch 9/40\n",
      "173/173 [==============================] - 156s 903ms/step - loss: 0.6741 - accuracy: 0.6894 - val_loss: 0.5677 - val_accuracy: 0.7575\n",
      "Epoch 10/40\n",
      "173/173 [==============================] - 156s 905ms/step - loss: 0.6361 - accuracy: 0.7112 - val_loss: 0.5647 - val_accuracy: 0.7603\n",
      "Epoch 11/40\n",
      "173/173 [==============================] - 156s 903ms/step - loss: 0.5909 - accuracy: 0.7353 - val_loss: 0.5044 - val_accuracy: 0.7889\n",
      "Epoch 12/40\n",
      "173/173 [==============================] - 156s 903ms/step - loss: 0.5604 - accuracy: 0.7508 - val_loss: 0.4794 - val_accuracy: 0.7997\n",
      "Epoch 13/40\n",
      "173/173 [==============================] - 156s 903ms/step - loss: 0.5316 - accuracy: 0.7683 - val_loss: 0.4581 - val_accuracy: 0.8127\n",
      "Epoch 14/40\n",
      "173/173 [==============================] - 156s 901ms/step - loss: 0.5154 - accuracy: 0.7771 - val_loss: 0.4374 - val_accuracy: 0.8098\n",
      "Epoch 15/40\n",
      "173/173 [==============================] - 156s 901ms/step - loss: 0.4921 - accuracy: 0.7886 - val_loss: 0.4249 - val_accuracy: 0.8225\n",
      "Epoch 16/40\n",
      "173/173 [==============================] - 156s 901ms/step - loss: 0.4738 - accuracy: 0.7974 - val_loss: 0.4092 - val_accuracy: 0.8267\n",
      "Epoch 17/40\n",
      "173/173 [==============================] - 156s 901ms/step - loss: 0.4539 - accuracy: 0.8037 - val_loss: 0.3916 - val_accuracy: 0.8390\n",
      "Epoch 18/40\n",
      "173/173 [==============================] - 156s 902ms/step - loss: 0.4347 - accuracy: 0.8126 - val_loss: 0.4043 - val_accuracy: 0.8371\n",
      "Epoch 19/40\n",
      "173/173 [==============================] - 156s 902ms/step - loss: 0.4219 - accuracy: 0.8178 - val_loss: 0.3992 - val_accuracy: 0.8403\n",
      "Epoch 20/40\n",
      "173/173 [==============================] - 156s 904ms/step - loss: 0.4117 - accuracy: 0.8257 - val_loss: 0.3648 - val_accuracy: 0.8537\n",
      "Epoch 21/40\n",
      "173/173 [==============================] - 156s 899ms/step - loss: 0.4006 - accuracy: 0.8290 - val_loss: 0.3439 - val_accuracy: 0.8705\n",
      "Epoch 22/40\n",
      "173/173 [==============================] - 158s 912ms/step - loss: 0.3912 - accuracy: 0.8352 - val_loss: 0.3516 - val_accuracy: 0.8654\n",
      "Epoch 23/40\n",
      "173/173 [==============================] - 156s 903ms/step - loss: 0.3721 - accuracy: 0.8432 - val_loss: 0.3407 - val_accuracy: 0.8657\n",
      "Epoch 24/40\n",
      "173/173 [==============================] - 157s 905ms/step - loss: 0.3681 - accuracy: 0.8476 - val_loss: 0.3506 - val_accuracy: 0.8613\n",
      "Epoch 25/40\n",
      "173/173 [==============================] - 155s 899ms/step - loss: 0.3533 - accuracy: 0.8497 - val_loss: 0.3344 - val_accuracy: 0.8683\n",
      "Epoch 26/40\n",
      "173/173 [==============================] - 156s 900ms/step - loss: 0.3455 - accuracy: 0.8576 - val_loss: 0.3261 - val_accuracy: 0.8733\n",
      "Epoch 27/40\n",
      "173/173 [==============================] - 155s 899ms/step - loss: 0.3371 - accuracy: 0.8613 - val_loss: 0.3429 - val_accuracy: 0.8683\n",
      "Epoch 28/40\n",
      "173/173 [==============================] - 155s 899ms/step - loss: 0.3346 - accuracy: 0.8612 - val_loss: 0.3272 - val_accuracy: 0.8708\n",
      "Epoch 29/40\n",
      "173/173 [==============================] - 155s 899ms/step - loss: 0.3210 - accuracy: 0.8676 - val_loss: 0.3236 - val_accuracy: 0.8778\n",
      "Epoch 30/40\n",
      "173/173 [==============================] - 158s 912ms/step - loss: 0.3092 - accuracy: 0.8706 - val_loss: 0.3273 - val_accuracy: 0.8778\n",
      "Epoch 31/40\n",
      "173/173 [==============================] - 156s 900ms/step - loss: 0.3032 - accuracy: 0.8739 - val_loss: 0.3003 - val_accuracy: 0.8790\n",
      "Epoch 32/40\n",
      "173/173 [==============================] - 156s 899ms/step - loss: 0.2996 - accuracy: 0.8769 - val_loss: 0.3066 - val_accuracy: 0.8848\n",
      "Epoch 33/40\n",
      "173/173 [==============================] - 156s 900ms/step - loss: 0.2881 - accuracy: 0.8817 - val_loss: 0.3206 - val_accuracy: 0.8765\n",
      "Epoch 34/40\n",
      "173/173 [==============================] - 156s 899ms/step - loss: 0.2858 - accuracy: 0.8809 - val_loss: 0.3548 - val_accuracy: 0.8638\n",
      "Epoch 35/40\n",
      "173/173 [==============================] - 156s 900ms/step - loss: 0.2808 - accuracy: 0.8846 - val_loss: 0.3153 - val_accuracy: 0.8825\n",
      "Epoch 36/40\n",
      "173/173 [==============================] - 156s 900ms/step - loss: 0.2738 - accuracy: 0.8885 - val_loss: 0.3177 - val_accuracy: 0.8737\n",
      "Epoch 37/40\n",
      "173/173 [==============================] - 155s 893ms/step - loss: 0.2706 - accuracy: 0.8898 - val_loss: 0.3216 - val_accuracy: 0.8800\n",
      "Epoch 38/40\n",
      "173/173 [==============================] - 154s 893ms/step - loss: 0.2568 - accuracy: 0.8948 - val_loss: 0.2974 - val_accuracy: 0.8879\n",
      "Epoch 39/40\n",
      "173/173 [==============================] - 155s 894ms/step - loss: 0.2548 - accuracy: 0.8955 - val_loss: 0.3176 - val_accuracy: 0.8813\n",
      "Epoch 40/40\n",
      "173/173 [==============================] - 155s 894ms/step - loss: 0.2575 - accuracy: 0.8972 - val_loss: 0.2944 - val_accuracy: 0.8924\n"
     ]
    }
   ],
   "source": [
    "r = model.fit_generator(train_it, epochs=40, callbacks=[tb_log], validation_data=validation_it)"
   ]
  },
  {
   "cell_type": "code",
   "execution_count": 8,
   "metadata": {},
   "outputs": [],
   "source": [
    "evaluate = model.evaluate_generator(test_it)"
   ]
  },
  {
   "cell_type": "code",
   "execution_count": 9,
   "metadata": {},
   "outputs": [],
   "source": [
    "y_prob = model.predict_generator(test_it)"
   ]
  },
  {
   "cell_type": "code",
   "execution_count": 10,
   "metadata": {},
   "outputs": [
    {
     "name": "stdout",
     "output_type": "stream",
     "text": [
      "model saved, path: models/cnn_topomap_classification_model_vgg.h5\n"
     ]
    }
   ],
   "source": [
    "h.save(model, r, evaluate, y_prob, 'cnn_topomap_classification_model_vgg')"
   ]
  },
  {
   "cell_type": "code",
   "execution_count": 11,
   "metadata": {},
   "outputs": [
    {
     "data": {
      "image/png": "[encoded data removed]",
      "text/plain": [
       "<Figure size 432x288 with 1 Axes>"
      ]
     },
     "metadata": {
      "needs_background": "light"
     },
     "output_type": "display_data"
    }
   ],
   "source": [
    "plt.figure()\n",
    "\n",
    "plt.title('loss curve for cnn_topomap_classification_model_vgg')\n",
    "\n",
    "plt.plot(r.history['loss'], label='loss')\n",
    "plt.plot(r.history['val_loss'], label='val_loss')\n",
    "\n",
    "plt.xlabel('epochs')\n",
    "plt.ylabel('loss')\n",
    "plt.legend()\n",
    "\n",
    "plt.savefig('results/loss curve for cnn_topomap_classification_model_vgg.png')"
   ]
  },
  {
   "cell_type": "code",
   "execution_count": 12,
   "metadata": {},
   "outputs": [
    {
     "data": {
      "image/png": "[encoded data removed]",
      "text/plain": [
       "<Figure size 432x288 with 1 Axes>"
      ]
     },
     "metadata": {
      "needs_background": "light"
     },
     "output_type": "display_data"
    }
   ],
   "source": [
    "plt.figure()\n",
    "\n",
    "plt.title('accuracy curve for cnn_topomap_classification_model_vgg')\n",
    "\n",
    "plt.plot(r.history['accuracy'], label='acc')\n",
    "plt.plot(r.history['val_accuracy'], label='val_acc')\n",
    "\n",
    "plt.xlabel('epochs')\n",
    "plt.ylabel('accuracy')\n",
    "plt.legend()\n",
    "\n",
    "plt.savefig('results/accuracy curve for cnn_topomap_classification_model_vg.png')"
   ]
  }
 ],
 "metadata": {
  "kernelspec": {
   "display_name": "Python 3",
   "language": "python",
   "name": "python3"
  },
  "language_info": {
   "codemirror_mode": {
    "name": "ipython",
    "version": 3
   },
   "file_extension": ".py",
   "mimetype": "text/x-python",
   "name": "python",
   "nbconvert_exporter": "python",
   "pygments_lexer": "ipython3",
   "version": "3.7.4"
  }
 },
 "nbformat": 4,
 "nbformat_minor": 2
}
